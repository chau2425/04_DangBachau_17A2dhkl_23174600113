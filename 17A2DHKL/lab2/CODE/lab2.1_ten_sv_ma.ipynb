{
 "cells": [
  {
   "cell_type": "code",
   "execution_count": 1,
   "metadata": {},
   "outputs": [
    {
     "name": "stdout",
     "output_type": "stream",
     "text": [
      "Nhiệt độ hàng ngày trong tháng: [22.49 34.01 29.64 26.97 18.12 18.12 16.16 32.32 27.02 29.16 15.41 34.4\n",
      " 31.65 19.25 18.64 18.67 21.08 25.5  23.64 20.82 27.24 17.79 20.84 22.33\n",
      " 24.12 30.7  18.99 25.28 26.85 15.93]\n",
      "Nhiệt độ trung bình trong tháng: 23.77\n"
     ]
    }
   ],
   "source": [
    "import numpy as np\n",
    "\n",
    "# Tạo mảng nhiệt độ (ngẫu nhiên trong khoảng 15-35 độ C)\n",
    "np.random.seed(42)  # Đặt seed để tái tạo kết quả\n",
    "temperatures = np.round(np.random.uniform(15, 35, size=30), 2)\n",
    "\n",
    "# Tính nhiệt độ trung bình trong tháng\n",
    "average_temp = np.mean(temperatures)\n",
    "\n",
    "print(\"Nhiệt độ hàng ngày trong tháng:\", temperatures)\n",
    "print(\"Nhiệt độ trung bình trong tháng:\", round(average_temp, 2))\n",
    "\n"
   ]
  },
  {
   "cell_type": "code",
   "execution_count": 2,
   "metadata": {},
   "outputs": [
    {
     "name": "stdout",
     "output_type": "stream",
     "text": [
      "Ngày có nhiệt độ cao nhất (34.4°C): Ngày 12\n",
      "Ngày có nhiệt độ thấp nhất (15.41°C): Ngày 11\n",
      "Ngày có sự biến đổi nhiệt độ cao nhất (18.99°C): Ngày 11\n"
     ]
    }
   ],
   "source": [
    "# Ngày có nhiệt độ cao nhất, thấp nhất\n",
    "max_temp = np.max(temperatures)\n",
    "min_temp = np.min(temperatures)\n",
    "day_max_temp = np.argmax(temperatures) + 1\n",
    "day_min_temp = np.argmin(temperatures) + 1\n",
    "\n",
    "# Chênh lệch nhiệt độ giữa các ngày\n",
    "temp_diff = np.abs(np.diff(temperatures))\n",
    "max_diff = np.max(temp_diff)\n",
    "day_max_diff = np.argmax(temp_diff) + 1\n",
    "\n",
    "print(\"Ngày có nhiệt độ cao nhất ({}°C): Ngày {}\".format(max_temp, day_max_temp))\n",
    "print(\"Ngày có nhiệt độ thấp nhất ({}°C): Ngày {}\".format(min_temp, day_min_temp))\n",
    "print(\"Ngày có sự biến đổi nhiệt độ cao nhất ({}°C): Ngày {}\".format(max_diff, day_max_diff))\n"
   ]
  },
  {
   "cell_type": "code",
   "execution_count": 4,
   "metadata": {},
   "outputs": [
    {
     "name": "stdout",
     "output_type": "stream",
     "text": [
      "Ngày có nhiệt độ cao hơn 20°C: [ 1  2  3  4  8  9 10 12 13 17 18 19 20 21 23 24 25 26 28 29]\n",
      "Nhiệt độ tương ứng: [22.49 34.01 29.64 26.97 32.32 27.02 29.16 34.4  31.65 21.08 25.5  23.64\n",
      " 20.82 27.24 20.84 22.33 24.12 30.7  25.28 26.85]\n",
      "Nhiệt độ của các ngày 5, 10, 15, 20, 25: [18.12 29.16 18.64 20.82 24.12]\n",
      "Ngày có nhiệt độ trên trung bình: [ 2  3  4  8  9 10 12 13 18 21 25 26 28 29]\n",
      "Nhiệt độ tương ứng: [34.01 29.64 26.97 32.32 27.02 29.16 34.4  31.65 25.5  27.24 24.12 30.7\n",
      " 25.28 26.85]\n",
      "Nhiệt độ ngày chẵn: [22.49 29.64 18.12 16.16 27.02 15.41 31.65 18.64 21.08 23.64 27.24 20.84\n",
      " 24.12 18.99 26.85]\n",
      "Nhiệt độ ngày lẻ: [34.01 26.97 18.12 32.32 29.16 34.4  19.25 18.67 25.5  20.82 17.79 22.33\n",
      " 30.7  25.28 15.93]\n"
     ]
    }
   ],
   "source": [
    "# 1. Ngày có nhiệt độ cao hơn 20°C\n",
    "days_above_20 = np.where(temperatures > 20)[0] + 1\n",
    "temps_above_20 = temperatures[temperatures > 20]\n",
    "\n",
    "print(\"Ngày có nhiệt độ cao hơn 20°C:\", days_above_20)\n",
    "print(\"Nhiệt độ tương ứng:\", temps_above_20)\n",
    "\n",
    "# 2. Lấy nhiệt độ của ngày 5, 10, 15, 20 và 25\n",
    "specific_days = [5, 10, 15, 20, 25]\n",
    "temps_specific_days = temperatures[np.array(specific_days) - 1]\n",
    "\n",
    "print(\"Nhiệt độ của các ngày 5, 10, 15, 20, 25:\", temps_specific_days)\n",
    "\n",
    "# 3. Nhiệt độ của các ngày có nhiệt độ trên trung bình\n",
    "days_above_avg = np.where(temperatures > average_temp)[0] + 1\n",
    "temps_above_avg = temperatures[temperatures > average_temp]\n",
    "\n",
    "print(\"Ngày có nhiệt độ trên trung bình:\", days_above_avg)\n",
    "print(\"Nhiệt độ tương ứng:\", temps_above_avg)\n",
    "\n",
    "# 4. Lấy nhiệt độ của các ngày chẵn và lẻ\n",
    "even_days = np.arange(1, 31, 2)  # Ngày chẵn\n",
    "odd_days = np.arange(2, 32, 2)   # Ngày lẻ\n",
    "\n",
    "temps_even_days = temperatures[even_days - 1]\n",
    "temps_odd_days = temperatures[odd_days - 1]\n",
    "\n",
    "print(\"Nhiệt độ ngày chẵn:\", temps_even_days)\n",
    "print(\"Nhiệt độ ngày lẻ:\", temps_odd_days)\n"
   ]
  }
 ],
 "metadata": {
  "kernelspec": {
   "display_name": "Python 3",
   "language": "python",
   "name": "python3"
  },
  "language_info": {
   "codemirror_mode": {
    "name": "ipython",
    "version": 3
   },
   "file_extension": ".py",
   "mimetype": "text/x-python",
   "name": "python",
   "nbconvert_exporter": "python",
   "pygments_lexer": "ipython3",
   "version": "3.12.0"
  }
 },
 "nbformat": 4,
 "nbformat_minor": 2
}
