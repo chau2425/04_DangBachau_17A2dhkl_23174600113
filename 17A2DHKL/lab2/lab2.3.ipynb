{
 "cells": [
  {
   "cell_type": "code",
   "execution_count": null,
   "metadata": {},
   "outputs": [],
   "source": [
    "1 Đọc Dữ liệu Từ 2 Tập Tin: performance.txt và shift.txt\n"
   ]
  },
  {
   "cell_type": "code",
   "execution_count": 2,
   "metadata": {},
   "outputs": [
    {
     "name": "stdout",
     "output_type": "stream",
     "text": [
      "[94, 97, 114, 117, 117, 59, 133, 71, 86, 137, 120, 138, 138, 62, 108, 115, 89, 137, 96, 138, 131, 87, 75, 127, 122, 59, 70, 130, 119, 129, 97, 114, 132, 149, 138, 99, 79, 69, 69, 64, 89, 82, 115, 59, 107, 82, 81, 124, 73, 85, 125, 105, 78, 84, 50, 50, 86, 103, 55, 88, 67, 129, 54, 92, 108, 81, 51, 115, 91, 107, 85, 61, 96, 132, 141, 50, 64, 149, 103, 62, 92, 134, 125, 118, 56, 118, 97, 53, 126, 102, 128, 65, 70, 149, 108, 73, 129, 63, 135, 98]\n",
      "['Afternoon', 'Afternoon', 'Afternoon', 'Morning', 'Afternoon', 'Night', 'Morning', 'Afternoon', 'Night', 'Morning', 'Night', 'Morning', 'Afternoon', 'Night', 'Night', 'Afternoon', 'Morning', 'Afternoon', 'Afternoon', 'Morning', 'Night', 'Night', 'Night', 'Night', 'Afternoon', 'Night', 'Night', 'Night', 'Night', 'Night', 'Morning', 'Afternoon', 'Night', 'Night', 'Afternoon', 'Night', 'Afternoon', 'Morning', 'Night', 'Night', 'Morning', 'Night', 'Morning', 'Morning', 'Night', 'Morning', 'Night', 'Night', 'Night', 'Morning', 'Morning', 'Morning', 'Afternoon', 'Night', 'Morning', 'Afternoon', 'Night', 'Night', 'Night', 'Afternoon', 'Morning', 'Morning', 'Morning', 'Morning', 'Night', 'Night', 'Morning', 'Morning', 'Morning', 'Afternoon', 'Night', 'Morning', 'Morning', 'Afternoon', 'Morning', 'Night', 'Afternoon', 'Afternoon', 'Afternoon', 'Morning', 'Morning', 'Morning', 'Afternoon', 'Afternoon', 'Night', 'Afternoon', 'Morning', 'Morning', 'Afternoon', 'Night', 'Afternoon', 'Afternoon', 'Afternoon', 'Morning', 'Morning', 'Morning', 'Afternoon', 'Night', 'Afternoon', 'Afternoon']\n"
     ]
    }
   ],
   "source": [
    "# Đọc dữ liệu từ file efficiency.txt\n",
    "with open('DATA/efficiency.txt', 'r') as file:\n",
    "    efficiency = [int(line.strip()) for line in file.readlines()]\n",
    "\n",
    "# Đọc dữ liệu từ file shifts.txt\n",
    "with open('DATA/shifts.txt', 'r') as file:\n",
    "    shifts = [line.strip() for line in file.readlines()]\n",
    "\n",
    "# In ra 2 list đã đọc\n",
    "print(efficiency)\n",
    "print(shifts)\n"
   ]
  },
  {
   "cell_type": "markdown",
   "metadata": {},
   "source": [
    "2Tạo NumPy Array np_shifts từ List shift và Kiểm tra dữ liệu kiểu dữ liệu"
   ]
  },
  {
   "cell_type": "code",
   "execution_count": 3,
   "metadata": {},
   "outputs": [
    {
     "name": "stdout",
     "output_type": "stream",
     "text": [
      "['Afternoon' 'Afternoon' 'Afternoon' 'Morning' 'Afternoon' 'Night'\n",
      " 'Morning' 'Afternoon' 'Night' 'Morning' 'Night' 'Morning' 'Afternoon'\n",
      " 'Night' 'Night' 'Afternoon' 'Morning' 'Afternoon' 'Afternoon' 'Morning'\n",
      " 'Night' 'Night' 'Night' 'Night' 'Afternoon' 'Night' 'Night' 'Night'\n",
      " 'Night' 'Night' 'Morning' 'Afternoon' 'Night' 'Night' 'Afternoon' 'Night'\n",
      " 'Afternoon' 'Morning' 'Night' 'Night' 'Morning' 'Night' 'Morning'\n",
      " 'Morning' 'Night' 'Morning' 'Night' 'Night' 'Night' 'Morning' 'Morning'\n",
      " 'Morning' 'Afternoon' 'Night' 'Morning' 'Afternoon' 'Night' 'Night'\n",
      " 'Night' 'Afternoon' 'Morning' 'Morning' 'Morning' 'Morning' 'Night'\n",
      " 'Night' 'Morning' 'Morning' 'Morning' 'Afternoon' 'Night' 'Morning'\n",
      " 'Morning' 'Afternoon' 'Morning' 'Night' 'Afternoon' 'Afternoon'\n",
      " 'Afternoon' 'Morning' 'Morning' 'Morning' 'Afternoon' 'Afternoon' 'Night'\n",
      " 'Afternoon' 'Morning' 'Morning' 'Afternoon' 'Night' 'Afternoon'\n",
      " 'Afternoon' 'Afternoon' 'Morning' 'Morning' 'Morning' 'Afternoon' 'Night'\n",
      " 'Afternoon' 'Afternoon']\n",
      "<U9\n"
     ]
    }
   ],
   "source": [
    "import numpy as np\n",
    "\n",
    "# Tạo numpy array từ list shifts\n",
    "np_shifts = np.array(shifts)\n",
    "\n",
    "# Kiểm tra kiểu dữ liệu của np_shifts\n",
    "print(np_shifts)\n",
    "print(np_shifts.dtype)\n"
   ]
  },
  {
   "cell_type": "markdown",
   "metadata": {},
   "source": [
    "3Tạo NumPy Array np_efficiency từ List performance và Kiểm tra dữ liệu kiểu dữ liệu"
   ]
  },
  {
   "cell_type": "code",
   "execution_count": 4,
   "metadata": {},
   "outputs": [
    {
     "name": "stdout",
     "output_type": "stream",
     "text": [
      "[ 94  97 114 117 117  59 133  71  86 137 120 138 138  62 108 115  89 137\n",
      "  96 138 131  87  75 127 122  59  70 130 119 129  97 114 132 149 138  99\n",
      "  79  69  69  64  89  82 115  59 107  82  81 124  73  85 125 105  78  84\n",
      "  50  50  86 103  55  88  67 129  54  92 108  81  51 115  91 107  85  61\n",
      "  96 132 141  50  64 149 103  62  92 134 125 118  56 118  97  53 126 102\n",
      " 128  65  70 149 108  73 129  63 135  98]\n",
      "int32\n"
     ]
    }
   ],
   "source": [
    "# Tạo numpy array từ list efficiency\n",
    "np_efficiency = np.array(efficiency)\n",
    "\n",
    "# Kiểm tra kiểu dữ liệu của np_efficiency\n",
    "print(np_efficiency)\n",
    "print(np_efficiency.dtype)\n"
   ]
  },
  {
   "cell_type": "markdown",
   "metadata": {},
   "source": [
    "4Tính Hiệu Suất Sản Xuất Trung Bình Của Những Nhân Viên Làm Việc Vào Ca 'Morning"
   ]
  },
  {
   "cell_type": "code",
   "execution_count": 5,
   "metadata": {},
   "outputs": [
    {
     "name": "stdout",
     "output_type": "stream",
     "text": [
      "Hiệu suất trung bình của ca Morning: 96.8529411764706\n"
     ]
    }
   ],
   "source": [
    "# Lọc các chỉ số ca 'Morning' và tính hiệu suất trung bình\n",
    "morning_efficiency = np_efficiency[np_shifts == 'Morning']\n",
    "average_morning_efficiency = np.mean(morning_efficiency)\n",
    "\n",
    "# In kết quả\n",
    "print(f\"Hiệu suất trung bình của ca Morning: {average_morning_efficiency}\")\n"
   ]
  },
  {
   "cell_type": "markdown",
   "metadata": {},
   "source": [
    "5Tính Hiệu Suất Sản Xuất Trung Bình Của Những Nhân Viên Làm Việc Trong Các Ca Khác (Không Phải 'Morning')"
   ]
  },
  {
   "cell_type": "code",
   "execution_count": 6,
   "metadata": {},
   "outputs": [
    {
     "name": "stdout",
     "output_type": "stream",
     "text": [
      "Hiệu suất trung bình của các ca khác ngoài Morning: 98.93939393939394\n"
     ]
    }
   ],
   "source": [
    "# Lọc các chỉ số không phải ca 'Morning' và tính hiệu suất trung bình\n",
    "non_morning_efficiency = np_efficiency[np_shifts != 'Morning']\n",
    "average_non_morning_efficiency = np.mean(non_morning_efficiency)\n",
    "\n",
    "# In kết quả\n",
    "print(f\"Hiệu suất trung bình của các ca khác ngoài Morning: {average_non_morning_efficiency}\")\n"
   ]
  },
  {
   "cell_type": "markdown",
   "metadata": {},
   "source": [
    "6"
   ]
  },
  {
   "cell_type": "code",
   "execution_count": 7,
   "metadata": {},
   "outputs": [
    {
     "name": "stdout",
     "output_type": "stream",
     "text": [
      "[('Afternoon',  94.) ('Afternoon',  97.) ('Afternoon', 114.)\n",
      " ('Morning', 117.) ('Afternoon', 117.) ('Night',  59.) ('Morning', 133.)\n",
      " ('Afternoon',  71.) ('Night',  86.) ('Morning', 137.) ('Night', 120.)\n",
      " ('Morning', 138.) ('Afternoon', 138.) ('Night',  62.) ('Night', 108.)\n",
      " ('Afternoon', 115.) ('Morning',  89.) ('Afternoon', 137.)\n",
      " ('Afternoon',  96.) ('Morning', 138.) ('Night', 131.) ('Night',  87.)\n",
      " ('Night',  75.) ('Night', 127.) ('Afternoon', 122.) ('Night',  59.)\n",
      " ('Night',  70.) ('Night', 130.) ('Night', 119.) ('Night', 129.)\n",
      " ('Morning',  97.) ('Afternoon', 114.) ('Night', 132.) ('Night', 149.)\n",
      " ('Afternoon', 138.) ('Night',  99.) ('Afternoon',  79.) ('Morning',  69.)\n",
      " ('Night',  69.) ('Night',  64.) ('Morning',  89.) ('Night',  82.)\n",
      " ('Morning', 115.) ('Morning',  59.) ('Night', 107.) ('Morning',  82.)\n",
      " ('Night',  81.) ('Night', 124.) ('Night',  73.) ('Morning',  85.)\n",
      " ('Morning', 125.) ('Morning', 105.) ('Afternoon',  78.) ('Night',  84.)\n",
      " ('Morning',  50.) ('Afternoon',  50.) ('Night',  86.) ('Night', 103.)\n",
      " ('Night',  55.) ('Afternoon',  88.) ('Morning',  67.) ('Morning', 129.)\n",
      " ('Morning',  54.) ('Morning',  92.) ('Night', 108.) ('Night',  81.)\n",
      " ('Morning',  51.) ('Morning', 115.) ('Morning',  91.) ('Afternoon', 107.)\n",
      " ('Night',  85.) ('Morning',  61.) ('Morning',  96.) ('Afternoon', 132.)\n",
      " ('Morning', 141.) ('Night',  50.) ('Afternoon',  64.) ('Afternoon', 149.)\n",
      " ('Afternoon', 103.) ('Morning',  62.) ('Morning',  92.) ('Morning', 134.)\n",
      " ('Afternoon', 125.) ('Afternoon', 118.) ('Night',  56.)\n",
      " ('Afternoon', 118.) ('Morning',  97.) ('Morning',  53.)\n",
      " ('Afternoon', 126.) ('Night', 102.) ('Afternoon', 128.)\n",
      " ('Afternoon',  65.) ('Afternoon',  70.) ('Morning', 149.)\n",
      " ('Morning', 108.) ('Morning',  73.) ('Afternoon', 129.) ('Night',  63.)\n",
      " ('Afternoon', 135.) ('Afternoon',  98.)]\n"
     ]
    }
   ],
   "source": [
    "# Định nghĩa kiểu dữ liệu cho structure array\n",
    "dtype = [('shift', 'U10'), ('efficiency', 'float')]\n",
    "\n",
    "# Tạo structure array\n",
    "workers = np.array(list(zip(np_shifts, np_efficiency)), dtype=dtype)\n",
    "\n",
    "# In kết quả\n",
    "print(workers)\n"
   ]
  },
  {
   "cell_type": "markdown",
   "metadata": {},
   "source": [
    "7"
   ]
  },
  {
   "cell_type": "code",
   "execution_count": 8,
   "metadata": {},
   "outputs": [
    {
     "name": "stdout",
     "output_type": "stream",
     "text": [
      "Mảng workers đã sắp xếp theo hiệu suất:\n",
      "[('Afternoon',  50.) ('Morning',  50.) ('Night',  50.) ('Morning',  51.)\n",
      " ('Morning',  53.) ('Morning',  54.) ('Night',  55.) ('Night',  56.)\n",
      " ('Morning',  59.) ('Night',  59.) ('Night',  59.) ('Morning',  61.)\n",
      " ('Morning',  62.) ('Night',  62.) ('Night',  63.) ('Afternoon',  64.)\n",
      " ('Night',  64.) ('Afternoon',  65.) ('Morning',  67.) ('Morning',  69.)\n",
      " ('Night',  69.) ('Afternoon',  70.) ('Night',  70.) ('Afternoon',  71.)\n",
      " ('Morning',  73.) ('Night',  73.) ('Night',  75.) ('Afternoon',  78.)\n",
      " ('Afternoon',  79.) ('Night',  81.) ('Night',  81.) ('Morning',  82.)\n",
      " ('Night',  82.) ('Night',  84.) ('Morning',  85.) ('Night',  85.)\n",
      " ('Night',  86.) ('Night',  86.) ('Night',  87.) ('Afternoon',  88.)\n",
      " ('Morning',  89.) ('Morning',  89.) ('Morning',  91.) ('Morning',  92.)\n",
      " ('Morning',  92.) ('Afternoon',  94.) ('Afternoon',  96.)\n",
      " ('Morning',  96.) ('Afternoon',  97.) ('Morning',  97.) ('Morning',  97.)\n",
      " ('Afternoon',  98.) ('Night',  99.) ('Night', 102.) ('Afternoon', 103.)\n",
      " ('Night', 103.) ('Morning', 105.) ('Afternoon', 107.) ('Night', 107.)\n",
      " ('Morning', 108.) ('Night', 108.) ('Night', 108.) ('Afternoon', 114.)\n",
      " ('Afternoon', 114.) ('Afternoon', 115.) ('Morning', 115.)\n",
      " ('Morning', 115.) ('Afternoon', 117.) ('Morning', 117.)\n",
      " ('Afternoon', 118.) ('Afternoon', 118.) ('Night', 119.) ('Night', 120.)\n",
      " ('Afternoon', 122.) ('Night', 124.) ('Afternoon', 125.) ('Morning', 125.)\n",
      " ('Afternoon', 126.) ('Night', 127.) ('Afternoon', 128.)\n",
      " ('Afternoon', 129.) ('Morning', 129.) ('Night', 129.) ('Night', 130.)\n",
      " ('Night', 131.) ('Afternoon', 132.) ('Night', 132.) ('Morning', 133.)\n",
      " ('Morning', 134.) ('Afternoon', 135.) ('Afternoon', 137.)\n",
      " ('Morning', 137.) ('Afternoon', 138.) ('Afternoon', 138.)\n",
      " ('Morning', 138.) ('Morning', 138.) ('Morning', 141.) ('Afternoon', 149.)\n",
      " ('Morning', 149.) ('Night', 149.)]\n",
      "Ca làm việc có hiệu suất cao nhất: Night với hiệu suất 149.0\n",
      "Ca làm việc có hiệu suất thấp nhất: Afternoon với hiệu suất 50.0\n"
     ]
    }
   ],
   "source": [
    "# Sắp xếp mảng workers theo efficiency\n",
    "sorted_workers = np.sort(workers, order='efficiency')\n",
    "\n",
    "# In kết quả đã sắp xếp\n",
    "print(\"Mảng workers đã sắp xếp theo hiệu suất:\")\n",
    "print(sorted_workers)\n",
    "\n",
    "# Xác định ca làm việc có hiệu suất cao nhất và thấp nhất\n",
    "highest_efficiency_shift = sorted_workers[-1]  # Ca làm việc có hiệu suất cao nhất\n",
    "lowest_efficiency_shift = sorted_workers[0]  # Ca làm việc có hiệu suất thấp nhất\n",
    "\n",
    "# In kết quả\n",
    "print(f\"Ca làm việc có hiệu suất cao nhất: {highest_efficiency_shift['shift']} với hiệu suất {highest_efficiency_shift['efficiency']}\")\n",
    "print(f\"Ca làm việc có hiệu suất thấp nhất: {lowest_efficiency_shift['shift']} với hiệu suất {lowest_efficiency_shift['efficiency']}\")\n"
   ]
  }
 ],
 "metadata": {
  "kernelspec": {
   "display_name": "Python 3",
   "language": "python",
   "name": "python3"
  },
  "language_info": {
   "codemirror_mode": {
    "name": "ipython",
    "version": 3
   },
   "file_extension": ".py",
   "mimetype": "text/x-python",
   "name": "python",
   "nbconvert_exporter": "python",
   "pygments_lexer": "ipython3",
   "version": "3.12.0"
  }
 },
 "nbformat": 4,
 "nbformat_minor": 2
}
